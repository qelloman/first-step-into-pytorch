{
 "metadata": {
  "orig_nbformat": 2,
  "kernelspec": {
   "name": "python3",
   "display_name": "Python 3",
   "language": "python"
  }
 },
 "nbformat": 4,
 "nbformat_minor": 2,
 "cells": [
  {
   "cell_type": "code",
   "execution_count": 1,
   "metadata": {},
   "outputs": [],
   "source": [
    "import torch\n",
    "import torch.nn as nn\n",
    "import torch.nn.init as init\n",
    "import torch.optim as optim\n",
    "\n",
    "import torchvision.datasets as dset\n",
    "import torchvision.transforms as transforms\n",
    "from torch.utils.data import DataLoader"
   ]
  },
  {
   "cell_type": "code",
   "execution_count": 2,
   "metadata": {},
   "outputs": [],
   "source": [
    "batch_size = 256\n",
    "learning_rate = 0.0002\n",
    "num_epoch = 10"
   ]
  },
  {
   "cell_type": "code",
   "execution_count": 3,
   "metadata": {},
   "outputs": [],
   "source": [
    "mnist_train = dset.MNIST(\"./mnist_dataset\", train=True, transform=transforms.ToTensor(), target_transform=None, download=True)\n",
    "mnist_test = dset.MNIST(\"./mnist_dataset\", train=False, transform=transforms.ToTensor(), target_transform=None, download=True)"
   ]
  },
  {
   "cell_type": "code",
   "execution_count": 4,
   "metadata": {},
   "outputs": [],
   "source": [
    "# Data Loader는 데이터들을 batch_size만큼씩 나누어서 image와 label로 나누어 놓는다.\n",
    "train_loader = DataLoader(mnist_train, batch_size=batch_size, shuffle=True, num_workers=2, drop_last=True)\n",
    "test_loader = DataLoader(mnist_test, batch_size=batch_size, shuffle=False, num_workers=2, drop_last=True)"
   ]
  },
  {
   "cell_type": "code",
   "execution_count": 5,
   "metadata": {},
   "outputs": [],
   "source": [
    "class CNN(nn.Module):\n",
    "    def __init__(self):\n",
    "        super(CNN, self).__init__() # nn.Module의 초기화\n",
    "        self.layer = nn.Sequential(\n",
    "            nn.Conv2d(1, 16, 5), # 차례대로 input channel, output channel, kernel size -> w, h = 24\n",
    "            nn.ReLU(),\n",
    "            nn.Conv2d(16, 32, 5), # -> w, h = 20\n",
    "            nn.ReLU(),\n",
    "            nn.MaxPool2d(2, 2), # -> w, h = 10\n",
    "            nn.Conv2d(32, 64, 5), # -> w, h = 6\n",
    "            nn.ReLU(),\n",
    "            nn.MaxPool2d(2, 2) # -> w, h = 3\n",
    "        )\n",
    "\n",
    "        self.fc_layer = nn.Sequential(\n",
    "            nn.Linear(64*3*3, 100), #64 channel, w, h = 3\n",
    "            nn.ReLU(),\n",
    "            nn.Linear(100,10)\n",
    "        )\n",
    "\n",
    "    def forward(self, x):\n",
    "        out = self.layer(x)\n",
    "        out = out.view(batch_size, -1) # 3d array를 1차원으로 펴준다.\n",
    "        out = self.fc_layer(out)\n",
    "        return out"
   ]
  },
  {
   "cell_type": "code",
   "execution_count": 6,
   "metadata": {},
   "outputs": [],
   "source": [
    "device = torch.device(\"cuda:1\" if torch.cuda.is_available() else \"cpu\")\n",
    "model = CNN().to(device)\n",
    "loss_func = nn.CrossEntropyLoss()\n",
    "optimizer = optim.Adam(model.parameters(), lr=learning_rate)"
   ]
  },
  {
   "cell_type": "code",
   "execution_count": 7,
   "metadata": {},
   "outputs": [
    {
     "output_type": "stream",
     "name": "stdout",
     "text": [
      "tensor(2.3035, device='cuda:1', grad_fn=<NllLossBackward>)\n",
      "tensor(0.2785, device='cuda:1', grad_fn=<NllLossBackward>)\n",
      "tensor(0.1805, device='cuda:1', grad_fn=<NllLossBackward>)\n",
      "tensor(0.1538, device='cuda:1', grad_fn=<NllLossBackward>)\n",
      "tensor(0.0897, device='cuda:1', grad_fn=<NllLossBackward>)\n",
      "tensor(0.0408, device='cuda:1', grad_fn=<NllLossBackward>)\n",
      "tensor(0.0391, device='cuda:1', grad_fn=<NllLossBackward>)\n",
      "tensor(0.0416, device='cuda:1', grad_fn=<NllLossBackward>)\n",
      "tensor(0.0378, device='cuda:1', grad_fn=<NllLossBackward>)\n",
      "tensor(0.0346, device='cuda:1', grad_fn=<NllLossBackward>)\n"
     ]
    }
   ],
   "source": [
    "loss_arr = []\n",
    "for i in range(num_epoch):\n",
    "    \n",
    "    for j, [image, label] in enumerate(train_loader):\n",
    "        x = image.to(device)\n",
    "        y_ = label.to(device)\n",
    "\n",
    "        optimizer.zero_grad()\n",
    "        output = model.forward(x)\n",
    "        loss = loss_func(output, y_)\n",
    "        loss.backward()\n",
    "        optimizer.step()\n",
    "\n",
    "        # training data는 총 60,000개이고,\n",
    "        # batch size가 256이므로\n",
    "        # batch 갯수는 234개 밖에 안되서 아래 print 구문은 epoch당 1번 밖에 출력되지 않는다.\n",
    "        if j % 1000 == 0:\n",
    "            print(loss)\n",
    "            loss_arr.append(loss.cpu().detach().numpy())\n"
   ]
  },
  {
   "cell_type": "code",
   "execution_count": 8,
   "metadata": {},
   "outputs": [
    {
     "output_type": "stream",
     "name": "stdout",
     "text": [
      "Accuracy of Test Data: 98.69792175292969\n"
     ]
    }
   ],
   "source": [
    "correct = 0\n",
    "total = 0\n",
    "# no_grad를 걸어주는 이유는 test 시에는 back propagation이 필요 없기 때문이다.\n",
    "with torch.no_grad():\n",
    "    for image, label in test_loader:\n",
    "        x = image.to(device)\n",
    "        y_ = label.to(device)\n",
    "\n",
    "        output = model.forward(x)\n",
    "        # 아래 1은 column 방향으로 max를 찾는다는 의미.\n",
    "        # 즉 여러개의 row 중에서 하나를 고른다.\n",
    "        # return 값 중 앞의 값은 max value이다.\n",
    "        _, output_index = torch.max(output, 1)\n",
    "\n",
    "        total += label.size(0)\n",
    "        correct += (output_index == y_).sum().float()\n",
    "    \n",
    "    print(\"Accuracy of Test Data: {}\".format(100* correct / total))"
   ]
  },
  {
   "cell_type": "code",
   "execution_count": null,
   "metadata": {},
   "outputs": [],
   "source": []
  }
 ]
}