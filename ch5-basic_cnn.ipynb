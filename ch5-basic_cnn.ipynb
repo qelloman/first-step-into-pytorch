{
 "metadata": {
  "orig_nbformat": 2,
  "kernelspec": {
   "name": "python3",
   "display_name": "Python 3",
   "language": "python"
  }
 },
 "nbformat": 4,
 "nbformat_minor": 2,
 "cells": [
  {
   "source": [
    "# CNN을 통한 MNIST Classification ###\n",
    "\n",
    "유명한 데이터셋 중 하나인 MNIST (손글씨로 표현된 숫자)를 구별하는 CNN을 학습시켜보고 정확도를 알아볼 것이다.  "
   ],
   "cell_type": "markdown",
   "metadata": {}
  },
  {
   "cell_type": "code",
   "execution_count": 1,
   "metadata": {},
   "outputs": [],
   "source": [
    "# 기존 pytorch를 돌릴 때 항상 썼던 import 구문\n",
    "import torch\n",
    "import torch.nn as nn\n",
    "import torch.nn.init as init\n",
    "import torch.optim as optim"
   ]
  },
  {
   "cell_type": "code",
   "execution_count": 3,
   "metadata": {},
   "outputs": [],
   "source": [
    "# MNIST dataset을 가져오고 처리하기 위한 import 구문\n",
    "import torchvision.datasets.mnist as dset\n",
    "import torchvision.transforms as transforms\n",
    "from torch.utils.data import DataLoader"
   ]
  },
  {
   "cell_type": "code",
   "execution_count": 4,
   "metadata": {},
   "outputs": [],
   "source": [
    "batch_size = 256\n",
    "learning_rate = 0.0002\n",
    "num_epoch = 10"
   ]
  },
  {
   "cell_type": "code",
   "execution_count": 5,
   "metadata": {},
   "outputs": [],
   "source": [
    "# 데이터를 다운 받을 곳을 지정\n",
    "# train=True면 train set, 아니면 test set\n",
    "# transform은 데이터에 행해줄 transform을 지정해준다. MNIST의 경우에는 PIL의 형태로 되어 있어서 tensor로 바꾸어주어야 한다.\n",
    "# target transform은 뭔지 모르겠다.\n",
    "# download 여부\n",
    "mnist_train = dset.MNIST(\"./mnist_dataset\", train=True, transform=transforms.ToTensor(), target_transform=None, download=True)\n",
    "mnist_test = dset.MNIST(\"./mnist_dataset\", train=False, transform=transforms.ToTensor(), target_transform=None, download=True)"
   ]
  },
  {
   "cell_type": "code",
   "execution_count": 6,
   "metadata": {},
   "outputs": [],
   "source": [
    "# Data Loader는 데이터들을 batch_size만큼씩 나누어서 image와 label로 나누어 놓는다.\n",
    "# loader의 각 샘플들이 어떤 형태인지는 dataset에 따라 다른데\n",
    "# MNIST 같은 경우에는 [image, label]의 형태로 sample들이 나온다.\n",
    "# Shuffle은 데이터를 섞어줄 것인지에 대한 것이고\n",
    "# num_workers는 data loader에 대해 iteration을 돌릴 때 multi processing을 지원한다.\n",
    "# drop_last는 마지막에 batch_size씩 자르고 남은 짜투리 부분을 어떻게 할지 처리한다. (데이터가 충분하다면 drop해도 괜찮다.)\n",
    "train_loader = DataLoader(mnist_train, batch_size=batch_size, shuffle=True, num_workers=2, drop_last=True)\n",
    "test_loader = DataLoader(mnist_test, batch_size=batch_size, shuffle=False, num_workers=2, drop_last=True)"
   ]
  },
  {
   "cell_type": "code",
   "execution_count": 9,
   "metadata": {},
   "outputs": [],
   "source": [
    "class CNN(nn.Module):\n",
    "    def __init__(self):\n",
    "        super(CNN, self).__init__() # nn.Module의 초기화\n",
    "        self.layer = nn.Sequential(\n",
    "            nn.Conv2d(1, 16, 5), # 차례대로 (input ch #, output ch #, kernel size) -> (16, 24, 24)\n",
    "            nn.ReLU(),\n",
    "            nn.Conv2d(16, 32, 5), # -> (32, 20, 20)\n",
    "            nn.ReLU(),\n",
    "            nn.MaxPool2d(2, 2), # -> (32, 10, 10)\n",
    "            nn.Conv2d(32, 64, 5), # -> (64, 6, 6))\n",
    "            nn.ReLU(),\n",
    "            nn.MaxPool2d(2, 2), # -> (64, 3, 3)\n",
    "            nn.Flatten(), # -> (64 * 3 * 3)\n",
    "            nn.Linear(64*3*3, 100), # -> (100)\n",
    "            nn.ReLU(),\n",
    "            nn.Linear(100,10) # -> (10)\n",
    "        )\n",
    "\n",
    "        # self.fc_layer = nn.Sequential(\n",
    "        #     nn.Linear(64*3*3, 100), #64 channel, w, h = 3\n",
    "        #     nn.ReLU(),\n",
    "        #     nn.Linear(100,10)\n",
    "        # )\n",
    "\n",
    "    def forward(self, x):\n",
    "        out = self.layer(x)\n",
    "        # out = out.view(batch_size, -1) # 3d array를 1차원으로 펴준다.\n",
    "        # out = self.fc_layer(out)\n",
    "        return out"
   ]
  },
  {
   "cell_type": "code",
   "execution_count": 10,
   "metadata": {},
   "outputs": [],
   "source": [
    "device = torch.device(\"cuda:1\" if torch.cuda.is_available() else \"cpu\")\n",
    "model = CNN().to(device)\n",
    "loss_func = nn.CrossEntropyLoss()\n",
    "optimizer = optim.Adam(model.parameters(), lr=learning_rate)"
   ]
  },
  {
   "cell_type": "code",
   "execution_count": 11,
   "metadata": {},
   "outputs": [
    {
     "output_type": "stream",
     "name": "stdout",
     "text": [
      "tensor(2.3044, device='cuda:1', grad_fn=<NllLossBackward>)\n",
      "tensor(0.2139, device='cuda:1', grad_fn=<NllLossBackward>)\n",
      "tensor(0.1123, device='cuda:1', grad_fn=<NllLossBackward>)\n",
      "tensor(0.0826, device='cuda:1', grad_fn=<NllLossBackward>)\n",
      "tensor(0.1223, device='cuda:1', grad_fn=<NllLossBackward>)\n",
      "tensor(0.0614, device='cuda:1', grad_fn=<NllLossBackward>)\n",
      "tensor(0.0343, device='cuda:1', grad_fn=<NllLossBackward>)\n",
      "tensor(0.0657, device='cuda:1', grad_fn=<NllLossBackward>)\n",
      "tensor(0.0228, device='cuda:1', grad_fn=<NllLossBackward>)\n",
      "tensor(0.0344, device='cuda:1', grad_fn=<NllLossBackward>)\n"
     ]
    }
   ],
   "source": [
    "loss_arr = []\n",
    "for i in range(num_epoch):\n",
    "    \n",
    "    for j, [image, label] in enumerate(train_loader):\n",
    "\n",
    "        # image, label은 이미 tensor이긴 하지만 속도를 위해 device로 옮겨줘야 한다.\n",
    "        x = image.to(device)\n",
    "        y_ = label.to(device)\n",
    "\n",
    "        # 지난번 예제에서도 했던 zero grad, forward prop, back prop, 그리고 parameter update\n",
    "        optimizer.zero_grad()\n",
    "        output = model.forward(x)\n",
    "        loss = loss_func(output, y_)\n",
    "        loss.backward()\n",
    "        optimizer.step()\n",
    "\n",
    "        # training data는 총 60,000개이고,\n",
    "        # batch size가 256이므로\n",
    "        # batch 갯수는 234개 밖에 안되서 아래 print 구문은 epoch당 1번 밖에 출력되지 않는다.\n",
    "        if j % 1000 == 0:\n",
    "            print(loss)\n",
    "            loss_arr.append(loss.cpu().detach().numpy())\n"
   ]
  },
  {
   "cell_type": "code",
   "execution_count": 14,
   "metadata": {},
   "outputs": [
    {
     "output_type": "stream",
     "name": "stdout",
     "text": [
      "Accuracy of Test Data: 98.8581771850586\n"
     ]
    }
   ],
   "source": [
    "correct = 0\n",
    "total = 0\n",
    "# no_grad를 걸어주는 이유는 test 시에는 back propagation이 필요 없기 때문이다.\n",
    "with torch.no_grad():\n",
    "    for image, label in test_loader:\n",
    "        x = image.to(device)\n",
    "        y_ = label.to(device)\n",
    "\n",
    "        output = model.forward(x)\n",
    "        # 아래 1은 column 방향으로 max를 찾는다는 의미.\n",
    "        # 즉 여러개의 row 중에서 하나를 고른다.\n",
    "        # return 값 중 앞의 값은 max value이다.\n",
    "        _, output_index = torch.max(output, 1)\n",
    "\n",
    "        total += label.size(0)\n",
    "        # output_index == y_ 는 True, False로 이루어진 어레이를 만들고\n",
    "        # 뒤의 sum이 True인 부분들만 구해서 합쳐준다.\n",
    "        correct += (output_index == y_).sum()\n",
    "    \n",
    "    print(\"Accuracy of Test Data: {}\".format(100* correct / total))"
   ]
  },
  {
   "source": [
    "## 별책부록 ##\n",
    "pytorch 모델은 coreml로 변환하기 위해 ONNX로 저장하기."
   ],
   "cell_type": "markdown",
   "metadata": {}
  },
  {
   "cell_type": "code",
   "execution_count": 19,
   "metadata": {},
   "outputs": [
    {
     "output_type": "stream",
     "name": "stdout",
     "text": [
      "graph(%input image : Float(1, 1, 28, 28, strides=[784, 784, 28, 1], requires_grad=0, device=cuda:1),\n      %layer.0.weight : Float(16, 1, 5, 5, strides=[25, 25, 5, 1], requires_grad=1, device=cuda:1),\n      %layer.0.bias : Float(16, strides=[1], requires_grad=1, device=cuda:1),\n      %layer.2.weight : Float(32, 16, 5, 5, strides=[400, 25, 5, 1], requires_grad=1, device=cuda:1),\n      %layer.2.bias : Float(32, strides=[1], requires_grad=1, device=cuda:1),\n      %layer.5.weight : Float(64, 32, 5, 5, strides=[800, 25, 5, 1], requires_grad=1, device=cuda:1),\n      %layer.5.bias : Float(64, strides=[1], requires_grad=1, device=cuda:1),\n      %layer.9.weight : Float(100, 576, strides=[576, 1], requires_grad=1, device=cuda:1),\n      %layer.9.bias : Float(100, strides=[1], requires_grad=1, device=cuda:1),\n      %layer.11.weight : Float(10, 100, strides=[100, 1], requires_grad=1, device=cuda:1),\n      %layer.11.bias : Float(10, strides=[1], requires_grad=1, device=cuda:1)):\n  %11 : Float(1, 16, 24, 24, strides=[9216, 576, 24, 1], requires_grad=1, device=cuda:1) = onnx::Conv[dilations=[1, 1], group=1, kernel_shape=[5, 5], pads=[0, 0, 0, 0], strides=[1, 1]](%input image, %layer.0.weight, %layer.0.bias) # /home/centos/anaconda3/envs/dk-yolov5/lib/python3.8/site-packages/torch/nn/modules/conv.py:395:0\n  %12 : Float(1, 16, 24, 24, strides=[9216, 576, 24, 1], requires_grad=1, device=cuda:1) = onnx::Relu(%11) # /home/centos/anaconda3/envs/dk-yolov5/lib/python3.8/site-packages/torch/nn/functional.py:1206:0\n  %13 : Float(1, 32, 20, 20, strides=[12800, 400, 20, 1], requires_grad=1, device=cuda:1) = onnx::Conv[dilations=[1, 1], group=1, kernel_shape=[5, 5], pads=[0, 0, 0, 0], strides=[1, 1]](%12, %layer.2.weight, %layer.2.bias) # /home/centos/anaconda3/envs/dk-yolov5/lib/python3.8/site-packages/torch/nn/modules/conv.py:395:0\n  %14 : Float(1, 32, 20, 20, strides=[12800, 400, 20, 1], requires_grad=1, device=cuda:1) = onnx::Relu(%13) # /home/centos/anaconda3/envs/dk-yolov5/lib/python3.8/site-packages/torch/nn/functional.py:1206:0\n  %15 : Float(1, 32, 10, 10, strides=[3200, 100, 10, 1], requires_grad=1, device=cuda:1) = onnx::MaxPool[kernel_shape=[2, 2], pads=[0, 0, 0, 0], strides=[2, 2]](%14) # /home/centos/anaconda3/envs/dk-yolov5/lib/python3.8/site-packages/torch/nn/functional.py:659:0\n  %16 : Float(1, 64, 6, 6, strides=[2304, 36, 6, 1], requires_grad=1, device=cuda:1) = onnx::Conv[dilations=[1, 1], group=1, kernel_shape=[5, 5], pads=[0, 0, 0, 0], strides=[1, 1]](%15, %layer.5.weight, %layer.5.bias) # /home/centos/anaconda3/envs/dk-yolov5/lib/python3.8/site-packages/torch/nn/modules/conv.py:395:0\n  %17 : Float(1, 64, 6, 6, strides=[2304, 36, 6, 1], requires_grad=1, device=cuda:1) = onnx::Relu(%16) # /home/centos/anaconda3/envs/dk-yolov5/lib/python3.8/site-packages/torch/nn/functional.py:1206:0\n  %18 : Float(1, 64, 3, 3, strides=[576, 9, 3, 1], requires_grad=1, device=cuda:1) = onnx::MaxPool[kernel_shape=[2, 2], pads=[0, 0, 0, 0], strides=[2, 2]](%17) # /home/centos/anaconda3/envs/dk-yolov5/lib/python3.8/site-packages/torch/nn/functional.py:659:0\n  %19 : Float(1, 576, strides=[576, 1], requires_grad=1, device=cuda:1) = onnx::Flatten[axis=1](%18) # /home/centos/anaconda3/envs/dk-yolov5/lib/python3.8/site-packages/torch/nn/modules/flatten.py:40:0\n  %20 : Float(1, 100, strides=[100, 1], requires_grad=1, device=cuda:1) = onnx::Gemm[alpha=1., beta=1., transB=1](%19, %layer.9.weight, %layer.9.bias) # /home/centos/anaconda3/envs/dk-yolov5/lib/python3.8/site-packages/torch/nn/functional.py:1753:0\n  %21 : Float(1, 100, strides=[100, 1], requires_grad=1, device=cuda:1) = onnx::Relu(%20) # /home/centos/anaconda3/envs/dk-yolov5/lib/python3.8/site-packages/torch/nn/functional.py:1206:0\n  %label : Float(1, 10, strides=[10, 1], requires_grad=1, device=cuda:1) = onnx::Gemm[alpha=1., beta=1., transB=1](%21, %layer.11.weight, %layer.11.bias) # /home/centos/anaconda3/envs/dk-yolov5/lib/python3.8/site-packages/torch/nn/functional.py:1753:0\n  return (%label)\n\n"
     ]
    }
   ],
   "source": [
    "dummy_input = torch.rand(1, 1, 28,28).to(device)\n",
    "torch.onnx.export(model, dummy_input, \"mnist.onnx\", verbose=True, input_names=['input image'], output_names=['label'])"
   ]
  },
  {
   "cell_type": "code",
   "execution_count": null,
   "metadata": {},
   "outputs": [],
   "source": []
  }
 ]
}